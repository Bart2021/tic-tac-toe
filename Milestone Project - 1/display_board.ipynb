{
 "cells": [
  {
   "cell_type": "code",
   "execution_count": 3,
   "metadata": {},
   "outputs": [
    {
     "name": "stdout",
     "output_type": "stream",
     "text": [
      "   |   |   \n",
      " X | O | X \n",
      "   |   |   \n",
      "___________\n",
      "   |   |   \n",
      " O | X | O \n",
      "   |   |   \n",
      "___________\n",
      "   |   |   \n",
      " X | O | X \n",
      "   |   |   \n",
      "\n",
      "\n",
      "   |   |   \n",
      " X | O | O \n",
      "   |   |   \n",
      "___________\n",
      "   |   |   \n",
      " X | O | O \n",
      "   |   |   \n",
      "___________\n",
      "   |   |   \n",
      " O | O | X \n",
      "   |   |   \n"
     ]
    }
   ],
   "source": [
    "def display_board(board):\n",
    "    print('   |   |   ')\n",
    "    print(f' {board[7]} | {board[8]} | {board[9]} ')\n",
    "    print('   |   |   ')\n",
    "    print('___________')\n",
    "    print('   |   |   ')\n",
    "    print(f' {board[4]} | {board[5]} | {board[6]} ')\n",
    "    print('   |   |   ')\n",
    "    print('___________')\n",
    "    print('   |   |   ')\n",
    "    print(f' {board[1]} | {board[2]} | {board[3]} ')\n",
    "    print('   |   |   ')\n",
    "    \n",
    "test_board = ['#','X','O','X','O','X','O','X','O','X']\n",
    "display_board(test_board)\n",
    "print('\\n')\n",
    "test_board2 = ['#','O','O','X','X','O','O','X','O','O']\n",
    "display_board(test_board2)"
   ]
  },
  {
   "cell_type": "code",
   "execution_count": null,
   "metadata": {},
   "outputs": [],
   "source": []
  }
 ],
 "metadata": {
  "kernelspec": {
   "display_name": "Python 3",
   "language": "python",
   "name": "python3"
  },
  "language_info": {
   "codemirror_mode": {
    "name": "ipython",
    "version": 3
   },
   "file_extension": ".py",
   "mimetype": "text/x-python",
   "name": "python",
   "nbconvert_exporter": "python",
   "pygments_lexer": "ipython3",
   "version": "3.7.0"
  }
 },
 "nbformat": 4,
 "nbformat_minor": 2
}
