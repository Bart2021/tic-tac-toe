{
 "cells": [
  {
   "cell_type": "code",
   "execution_count": 2,
   "metadata": {},
   "outputs": [
    {
     "data": {
      "text/plain": [
       "False"
      ]
     },
     "execution_count": 2,
     "metadata": {},
     "output_type": "execute_result"
    }
   ],
   "source": [
    "def win_check(board, mark):\n",
    "    if board[7] == mark and board[8] == mark and board[9] == mark:\n",
    "        return True\n",
    "    elif board[4] == mark and board[5] == mark and board[6] == mark:\n",
    "        return True\n",
    "    elif board[1] == mark and board[2] == mark and board[3] == mark:\n",
    "        return True\n",
    "    elif board[7] == mark and board[4] == mark and board[1] == mark:\n",
    "        return True\n",
    "    elif board[8] == mark and board[5] == mark and board[2] == mark:\n",
    "        return True\n",
    "    elif board[9] == mark and board[6] == mark and board[3] == mark:\n",
    "        return True\n",
    "    elif board[7] == mark and board[5] == mark and board[3] == mark:\n",
    "        return True\n",
    "    elif board[9] == mark and board[5] == mark and board[1] == mark:\n",
    "        return True\n",
    "    return False\n",
    "\n",
    "\n",
    "\n",
    "test_board = ['#','X','O','X','O','X','O','X','O','X']\n",
    "win_check(test_board,'O')"
   ]
  },
  {
   "cell_type": "code",
   "execution_count": null,
   "metadata": {},
   "outputs": [],
   "source": []
  }
 ],
 "metadata": {
  "kernelspec": {
   "display_name": "Python 3",
   "language": "python",
   "name": "python3"
  },
  "language_info": {
   "codemirror_mode": {
    "name": "ipython",
    "version": 3
   },
   "file_extension": ".py",
   "mimetype": "text/x-python",
   "name": "python",
   "nbconvert_exporter": "python",
   "pygments_lexer": "ipython3",
   "version": "3.7.0"
  }
 },
 "nbformat": 4,
 "nbformat_minor": 2
}
