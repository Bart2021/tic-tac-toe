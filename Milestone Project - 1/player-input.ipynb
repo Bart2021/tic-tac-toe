{
 "cells": [
  {
   "cell_type": "code",
   "execution_count": 9,
   "metadata": {},
   "outputs": [
    {
     "name": "stdout",
     "output_type": "stream",
     "text": [
      "Player 1, do you want to be 'X' or 'O'?X\n"
     ]
    }
   ],
   "source": [
    "from IPython.display import clear_output\n",
    "\n",
    "def player_input():\n",
    "    player1 = ''\n",
    "    player2 = ''\n",
    "    while(True):\n",
    "        markerV = input(\"Player 1, do you want to be 'X' or 'O'?\")\n",
    "        if markerV == 'X':\n",
    "            player1 = 'X'\n",
    "            player2 = 'O'\n",
    "            break\n",
    "        elif markerV == 'O':\n",
    "            player1 = 'O'\n",
    "            player2 = 'X'\n",
    "            break\n",
    "        clear_output()\n",
    "    \n",
    "\n",
    "player_input()\n"
   ]
  },
  {
   "cell_type": "code",
   "execution_count": null,
   "metadata": {},
   "outputs": [],
   "source": []
  },
  {
   "cell_type": "code",
   "execution_count": null,
   "metadata": {},
   "outputs": [],
   "source": []
  }
 ],
 "metadata": {
  "kernelspec": {
   "display_name": "Python 3",
   "language": "python",
   "name": "python3"
  },
  "language_info": {
   "codemirror_mode": {
    "name": "ipython",
    "version": 3
   },
   "file_extension": ".py",
   "mimetype": "text/x-python",
   "name": "python",
   "nbconvert_exporter": "python",
   "pygments_lexer": "ipython3",
   "version": "3.7.0"
  }
 },
 "nbformat": 4,
 "nbformat_minor": 2
}
