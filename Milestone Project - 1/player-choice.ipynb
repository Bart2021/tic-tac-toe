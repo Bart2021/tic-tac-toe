{
 "cells": [
  {
   "cell_type": "code",
   "execution_count": 3,
   "metadata": {},
   "outputs": [
    {
     "name": "stdout",
     "output_type": "stream",
     "text": [
      "Enter your next position(1-9): 5\n"
     ]
    },
    {
     "data": {
      "text/plain": [
       "5"
      ]
     },
     "execution_count": 3,
     "metadata": {},
     "output_type": "execute_result"
    }
   ],
   "source": [
    "def space_check(board, position):\n",
    "    if board[position] == ' ':\n",
    "        return True\n",
    "    else:\n",
    "        return False\n",
    "\n",
    "def player_choice(board):\n",
    "    num = int(input('Enter your next position(1-9): '))\n",
    "    if space_check(board, num):\n",
    "        return num\n",
    "    \n",
    "test_board = ['#','X','O','X','O',' ','O','X',' ','X']\n",
    "player_choice(test_board)"
   ]
  },
  {
   "cell_type": "code",
   "execution_count": null,
   "metadata": {},
   "outputs": [],
   "source": []
  }
 ],
 "metadata": {
  "kernelspec": {
   "display_name": "Python 3",
   "language": "python",
   "name": "python3"
  },
  "language_info": {
   "codemirror_mode": {
    "name": "ipython",
    "version": 3
   },
   "file_extension": ".py",
   "mimetype": "text/x-python",
   "name": "python",
   "nbconvert_exporter": "python",
   "pygments_lexer": "ipython3",
   "version": "3.7.0"
  }
 },
 "nbformat": 4,
 "nbformat_minor": 2
}
